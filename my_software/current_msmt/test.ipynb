{
 "cells": [
  {
   "cell_type": "code",
   "outputs": [
    {
     "data": {
      "text/plain": "5000.0"
     },
     "execution_count": 7,
     "metadata": {},
     "output_type": "execute_result"
    }
   ],
   "source": [
    "1/(0.2e-3)"
   ],
   "metadata": {
    "collapsed": false,
    "ExecuteTime": {
     "end_time": "2024-04-15T09:47:06.305039Z",
     "start_time": "2024-04-15T09:47:06.281018Z"
    }
   },
   "id": "27db1c2a766ca0ab",
   "execution_count": 7
  },
  {
   "cell_type": "code",
   "outputs": [
    {
     "data": {
      "text/plain": "0.4472135954999579"
     },
     "execution_count": 6,
     "metadata": {},
     "output_type": "execute_result"
    }
   ],
   "source": [
    "np.sqrt(0.2)"
   ],
   "metadata": {
    "collapsed": false,
    "ExecuteTime": {
     "end_time": "2024-04-15T08:23:50.323502Z",
     "start_time": "2024-04-15T08:23:50.309997Z"
    }
   },
   "id": "963bc899ecf679c4",
   "execution_count": 6
  },
  {
   "cell_type": "code",
   "outputs": [
    {
     "ename": "ImportError",
     "evalue": "attempted relative import with no known parent package",
     "output_type": "error",
     "traceback": [
      "\u001B[1;31m---------------------------------------------------------------------------\u001B[0m",
      "\u001B[1;31mImportError\u001B[0m                               Traceback (most recent call last)",
      "Cell \u001B[1;32mIn[3], line 1\u001B[0m\n\u001B[1;32m----> 1\u001B[0m \u001B[38;5;28;01mfrom\u001B[39;00m \u001B[38;5;21;01m.\u001B[39;00m\u001B[38;5;21;01m.\u001B[39;00m\u001B[38;5;21;01mautomation\u001B[39;00m\u001B[38;5;21;01m.\u001B[39;00m\u001B[38;5;21;01mqudi_remote_control\u001B[39;00m \u001B[38;5;28;01mimport\u001B[39;00m OdmrRemoteControl\n",
      "\u001B[1;31mImportError\u001B[0m: attempted relative import with no known parent package"
     ]
    }
   ],
   "source": [
    "from ..automation.qudi_remote_control import OdmrRemoteControl"
   ],
   "metadata": {
    "collapsed": false,
    "ExecuteTime": {
     "end_time": "2024-04-14T21:00:17.587761Z",
     "start_time": "2024-04-14T21:00:17.570887Z"
    }
   },
   "id": "75c95ae5bf215aff",
   "execution_count": 3
  },
  {
   "cell_type": "code",
   "outputs": [],
   "source": [
    "X=65"
   ],
   "metadata": {
    "collapsed": false,
    "ExecuteTime": {
     "end_time": "2024-04-11T13:06:12.163246Z",
     "start_time": "2024-04-11T13:06:12.148990Z"
    }
   },
   "id": "69ff483ee7d39124",
   "execution_count": 88
  },
  {
   "cell_type": "code",
   "outputs": [],
   "source": [
    "import numpy as np"
   ],
   "metadata": {
    "collapsed": false,
    "ExecuteTime": {
     "end_time": "2024-04-14T22:22:05.847461Z",
     "start_time": "2024-04-14T22:22:05.714775Z"
    }
   },
   "id": "a89053f350e86510",
   "execution_count": 4
  },
  {
   "cell_type": "code",
   "outputs": [
    {
     "data": {
      "text/plain": "datetime.datetime(2024, 4, 11, 15, 5, 7, 280904)"
     },
     "execution_count": 89,
     "metadata": {},
     "output_type": "execute_result"
    }
   ],
   "source": [
    "datetime.datetime.now() - datetime.timedelta(seconds=X)"
   ],
   "metadata": {
    "collapsed": false,
    "ExecuteTime": {
     "end_time": "2024-04-11T13:06:12.287433Z",
     "start_time": "2024-04-11T13:06:12.279903Z"
    }
   },
   "id": "de13d305cc161768",
   "execution_count": 89
  },
  {
   "cell_type": "code",
   "outputs": [],
   "source": [
    "a = datetime.datetime.now()"
   ],
   "metadata": {
    "collapsed": false,
    "ExecuteTime": {
     "end_time": "2024-04-11T13:07:56.509777Z",
     "start_time": "2024-04-11T13:07:56.503267Z"
    }
   },
   "id": "7e9f523518e42cbf",
   "execution_count": 94
  },
  {
   "cell_type": "code",
   "outputs": [],
   "source": [
    "b= datetime.datetime.now()"
   ],
   "metadata": {
    "collapsed": false,
    "ExecuteTime": {
     "end_time": "2024-04-11T13:07:59.129893Z",
     "start_time": "2024-04-11T13:07:59.118769Z"
    }
   },
   "id": "bf183ff896d1975",
   "execution_count": 95
  },
  {
   "cell_type": "code",
   "outputs": [
    {
     "data": {
      "text/plain": "2.615999"
     },
     "execution_count": 97,
     "metadata": {},
     "output_type": "execute_result"
    }
   ],
   "source": [
    "(b-a).total_seconds()"
   ],
   "metadata": {
    "collapsed": false,
    "ExecuteTime": {
     "end_time": "2024-04-11T13:08:18.652509Z",
     "start_time": "2024-04-11T13:08:18.641738Z"
    }
   },
   "id": "a1571ff2c30ec165",
   "execution_count": 97
  },
  {
   "cell_type": "code",
   "outputs": [],
   "source": [
    "import pandas as pd"
   ],
   "metadata": {
    "collapsed": false,
    "ExecuteTime": {
     "end_time": "2024-04-11T13:09:21.242268Z",
     "start_time": "2024-04-11T13:09:21.225038Z"
    }
   },
   "id": "765a6c133177c614",
   "execution_count": 98
  },
  {
   "cell_type": "code",
   "outputs": [],
   "source": [
    "\n",
    "data = pd.read_csv(\"data/battery_current_measurement_2024-04-11_144257_.csv\", sep=\",\", header=0)\n",
    "columns = data.columns\n",
    "columns\n",
    "\n",
    "external_quantity = \"Time\"\n",
    "\n",
    "# OPX FM carrier frequency. We perform FM around 200 MHz. This is mixed with the LO frequency. We use the lower\n",
    "# sideband (f_LO - f_FM) -> Need to correct frequency by 200 MHz\n",
    "data[columns[1:]] += 200e6"
   ],
   "metadata": {
    "collapsed": false,
    "ExecuteTime": {
     "end_time": "2024-04-11T13:09:22.285994Z",
     "start_time": "2024-04-11T13:09:22.252328Z"
    }
   },
   "id": "57e5f30434c82dab",
   "execution_count": 99
  },
  {
   "cell_type": "code",
   "outputs": [
    {
     "data": {
      "text/plain": "datetime.datetime(2024, 4, 11, 14, 42, 56, 923266)"
     },
     "execution_count": 106,
     "metadata": {},
     "output_type": "execute_result"
    }
   ],
   "source": [
    "dt_str = \"2024-04-11 14:42:56.923266\"\n",
    "datetime.datetime.strptime(dt_str, \"%Y-%m-%d %H:%M:%S.%f\")"
   ],
   "metadata": {
    "collapsed": false,
    "ExecuteTime": {
     "end_time": "2024-04-11T13:14:46.076816Z",
     "start_time": "2024-04-11T13:14:46.061775Z"
    }
   },
   "id": "20ba4f54f477eff9",
   "execution_count": 106
  },
  {
   "cell_type": "code",
   "outputs": [],
   "source": [],
   "metadata": {
    "collapsed": false
   },
   "id": "9c966fe2606a3757"
  }
 ],
 "metadata": {
  "kernelspec": {
   "display_name": "Python 3",
   "language": "python",
   "name": "python3"
  },
  "language_info": {
   "codemirror_mode": {
    "name": "ipython",
    "version": 2
   },
   "file_extension": ".py",
   "mimetype": "text/x-python",
   "name": "python",
   "nbconvert_exporter": "python",
   "pygments_lexer": "ipython2",
   "version": "2.7.6"
  }
 },
 "nbformat": 4,
 "nbformat_minor": 5
}
