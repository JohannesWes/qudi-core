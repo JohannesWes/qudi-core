{
 "cells": [
  {
   "cell_type": "markdown",
   "source": [
    "# STROMANALYSE PROTOTYPING"
   ],
   "metadata": {
    "collapsed": false
   },
   "id": "f1ee6965c7e60e94"
  },
  {
   "cell_type": "code",
   "outputs": [],
   "source": [
    "import matplotlib.pyplot as plt\n",
    "import pandas as pd\n",
    "import matplotlib\n",
    "from datetime import datetime\n",
    "import numpy as np\n"
   ],
   "metadata": {
    "collapsed": false,
    "ExecuteTime": {
     "end_time": "2024-04-10T08:29:05.711369Z",
     "start_time": "2024-04-10T08:29:05.190005Z"
    }
   },
   "id": "e9a02539d6b79906",
   "execution_count": 1
  },
  {
   "cell_type": "code",
   "outputs": [],
   "source": [
    "matplotlib.use(\"Qt5Agg\")"
   ],
   "metadata": {
    "collapsed": false,
    "ExecuteTime": {
     "end_time": "2024-04-10T08:29:05.804969Z",
     "start_time": "2024-04-10T08:29:05.712377Z"
    }
   },
   "id": "dd5ca2cd96c83039",
   "execution_count": 2
  },
  {
   "cell_type": "code",
   "outputs": [],
   "source": [
    "data = pd.read_csv(\"current_measurement_2024-04-10_065800_.csv\", sep=\"\\t\", header=0)\n",
    "uncertainties = pd.read_csv(\"current_measurement_uncertainty2024-04-10_065800_.csv\", sep=\"\\t\", header=0)\n",
    "columns = data.columns\n",
    "data[columns[1:]]+=200e6"
   ],
   "metadata": {
    "collapsed": false,
    "ExecuteTime": {
     "end_time": "2024-04-10T08:31:05.422385Z",
     "start_time": "2024-04-10T08:31:05.399852Z"
    }
   },
   "id": "e85c1bc7723f9d20",
   "execution_count": 14
  },
  {
   "cell_type": "code",
   "outputs": [],
   "source": [
    "fig, ax = plt.subplots()\n",
    "\n",
    "for column in data.columns[1:]:\n",
    "    ax.scatter(data[\"current[A]\"], data[column], label=column)    \n",
    "    \n",
    "plt.show()"
   ],
   "metadata": {
    "collapsed": false,
    "ExecuteTime": {
     "end_time": "2024-04-10T08:31:40.260998Z",
     "start_time": "2024-04-10T08:31:38.891695Z"
    }
   },
   "id": "e5162bbe340024bd",
   "execution_count": 15
  },
  {
   "cell_type": "markdown",
   "source": [],
   "metadata": {
    "collapsed": false
   },
   "id": "dff5bd155168cd28"
  },
  {
   "cell_type": "code",
   "outputs": [],
   "source": [
    "ind = 3\n",
    "plt.scatter(data[\"current[A]\"], data[f\"odmr_peak_pos_{ind}[Hz]\"]/1e6, alpha=0.4, s=5, color=\"darkblue\")\n",
    "plt.plot(data[\"current[A]\"], data[f\"odmr_peak_pos_{ind}[Hz]\"]/1e6, linestyle=\"--\", alpha=0.4, color=\"darkblue\")\n",
    "plt.ylabel(\"ODMR peak position [MHz]\")\n",
    "plt.xlabel(\"Current [A]\")\n",
    "plt.title(\"Changing ODMR peak position with current\")\n",
    "plt.grid()\n",
    "plt.tight_layout()\n",
    "plt.show()"
   ],
   "metadata": {
    "collapsed": false,
    "ExecuteTime": {
     "end_time": "2024-04-10T08:41:01.441548Z",
     "start_time": "2024-04-10T08:39:21.446241Z"
    }
   },
   "id": "57e7ea4260331dbe",
   "execution_count": 52
  },
  {
   "cell_type": "code",
   "outputs": [],
   "source": [],
   "metadata": {
    "collapsed": false
   },
   "id": "986b946c46355ff"
  },
  {
   "cell_type": "code",
   "outputs": [],
   "source": [
    "a = np.zeros(5)"
   ],
   "metadata": {
    "collapsed": false,
    "ExecuteTime": {
     "end_time": "2024-04-10T14:22:25.325373Z",
     "start_time": "2024-04-10T14:22:25.307221Z"
    }
   },
   "id": "30a26e287fce0166",
   "execution_count": 53
  },
  {
   "cell_type": "code",
   "outputs": [],
   "source": [
    "from datetime import datetime"
   ],
   "metadata": {
    "collapsed": false,
    "ExecuteTime": {
     "end_time": "2024-04-10T14:22:44.988300Z",
     "start_time": "2024-04-10T14:22:44.977782Z"
    }
   },
   "id": "aed5e172e4df0f47",
   "execution_count": 54
  },
  {
   "cell_type": "code",
   "outputs": [
    {
     "ename": "TypeError",
     "evalue": "float() argument must be a string or a real number, not 'datetime.datetime'",
     "output_type": "error",
     "traceback": [
      "\u001B[1;31m---------------------------------------------------------------------------\u001B[0m",
      "\u001B[1;31mTypeError\u001B[0m                                 Traceback (most recent call last)",
      "Cell \u001B[1;32mIn[55], line 1\u001B[0m\n\u001B[1;32m----> 1\u001B[0m \u001B[43ma\u001B[49m\u001B[43m[\u001B[49m\u001B[38;5;241;43m0\u001B[39;49m\u001B[43m]\u001B[49m \u001B[38;5;241m=\u001B[39m datetime\u001B[38;5;241m.\u001B[39mnow()\n",
      "\u001B[1;31mTypeError\u001B[0m: float() argument must be a string or a real number, not 'datetime.datetime'"
     ]
    }
   ],
   "source": [
    "a[0] = datetime.now()"
   ],
   "metadata": {
    "collapsed": false,
    "ExecuteTime": {
     "end_time": "2024-04-10T14:22:51.010179Z",
     "start_time": "2024-04-10T14:22:50.955915Z"
    }
   },
   "id": "9e50f4ed4b73e17a",
   "execution_count": 55
  },
  {
   "cell_type": "code",
   "outputs": [
    {
     "data": {
      "text/plain": "array([datetime.datetime(2024, 4, 10, 16, 29, 49, 123326)], dtype=object)"
     },
     "execution_count": 71,
     "metadata": {},
     "output_type": "execute_result"
    }
   ],
   "source": [
    "a = np.array([], dtype='datetime64')\n",
    "np.append(a, datetime.now())"
   ],
   "metadata": {
    "collapsed": false,
    "ExecuteTime": {
     "end_time": "2024-04-10T14:29:49.139170Z",
     "start_time": "2024-04-10T14:29:49.122326Z"
    }
   },
   "id": "ccd8e256e594cfae",
   "execution_count": 71
  },
  {
   "cell_type": "code",
   "outputs": [
    {
     "data": {
      "text/plain": "'[1.252525, 2.251252]'"
     },
     "execution_count": 81,
     "metadata": {},
     "output_type": "execute_result"
    }
   ],
   "source": [
    "str([1.252525,2.251252])"
   ],
   "metadata": {
    "collapsed": false,
    "ExecuteTime": {
     "end_time": "2024-04-10T15:20:29.933425Z",
     "start_time": "2024-04-10T15:20:29.928391Z"
    }
   },
   "id": "b9fd947a8d85f570",
   "execution_count": 81
  },
  {
   "cell_type": "code",
   "outputs": [],
   "source": [
    "a[0] = datetime.now()"
   ],
   "metadata": {
    "collapsed": false,
    "ExecuteTime": {
     "end_time": "2024-04-10T15:07:58.752116Z",
     "start_time": "2024-04-10T15:07:58.740016Z"
    }
   },
   "id": "974deba96c1ace15",
   "execution_count": 77
  },
  {
   "cell_type": "code",
   "outputs": [
    {
     "data": {
      "text/plain": "array(['2024-04-10T17:07:58.742017', '2024-04-10T16:30:03.751849',\n       '2024-04-10T16:30:03.751849'], dtype='datetime64[us]')"
     },
     "execution_count": 78,
     "metadata": {},
     "output_type": "execute_result"
    }
   ],
   "source": [
    "a"
   ],
   "metadata": {
    "collapsed": false,
    "ExecuteTime": {
     "end_time": "2024-04-10T15:08:01.088276Z",
     "start_time": "2024-04-10T15:08:01.073724Z"
    }
   },
   "id": "3f20803a18278e4e",
   "execution_count": 78
  },
  {
   "cell_type": "markdown",
   "source": [
    "a---"
   ],
   "metadata": {
    "collapsed": false
   },
   "id": "dd4b815b4d3aae5b"
  },
  {
   "cell_type": "markdown",
   "source": [],
   "metadata": {
    "collapsed": false
   },
   "id": "8b1f240ef0f8d3a9"
  },
  {
   "cell_type": "markdown",
   "source": [
    "# OTHER STUFF"
   ],
   "metadata": {
    "collapsed": false
   },
   "id": "a48eb1b8588e9cfe"
  },
  {
   "cell_type": "code",
   "outputs": [],
   "source": [
    "from NGP_control import *\n",
    "import pyvisa as visa\n",
    "from RsNgx import *\n",
    "import pandas as pd\n",
    "import numpy as np\n",
    "import matplotlib\n",
    "import matplotlib.pyplot as plt\n",
    "matplotlib.use(\"Qt5Agg\")"
   ],
   "metadata": {
    "collapsed": false,
    "ExecuteTime": {
     "end_time": "2024-04-03T09:05:13.293157Z",
     "start_time": "2024-04-03T09:05:12.708715Z"
    }
   },
   "id": "ec263f5032085bed",
   "execution_count": 1
  },
  {
   "cell_type": "code",
   "outputs": [
    {
     "name": "stdout",
     "output_type": "stream",
     "text": [
      "Connected to Rohde&Schwarz,NGP824,5601.4007k03/101169,02.020 017630661C\n",
      "RsNgx package version: 3.1.0.0049\n",
      "Visa Manufacturer: National Instruments\n",
      "Instrument full name: NGP824\n"
     ]
    }
   ],
   "source": [
    "ngp = NGP_instance()"
   ],
   "metadata": {
    "collapsed": false,
    "ExecuteTime": {
     "end_time": "2024-04-03T09:05:14.440573Z",
     "start_time": "2024-04-03T09:05:13.295153Z"
    }
   },
   "id": "f4835461eea6d529",
   "execution_count": 2
  },
  {
   "cell_type": "code",
   "outputs": [
    {
     "data": {
      "text/plain": "'CONSTANT VOLTAGE'"
     },
     "execution_count": 3,
     "metadata": {},
     "output_type": "execute_result"
    }
   ],
   "source": [
    "ngp.read_mode(4)"
   ],
   "metadata": {
    "collapsed": false,
    "ExecuteTime": {
     "end_time": "2024-04-03T09:05:14.455848Z",
     "start_time": "2024-04-03T09:05:14.443569Z"
    }
   },
   "id": "bc6b951d420d3512",
   "execution_count": 3
  },
  {
   "cell_type": "code",
   "outputs": [],
   "source": [
    "ngp.activate_channel(4)"
   ],
   "metadata": {
    "collapsed": false,
    "ExecuteTime": {
     "end_time": "2024-04-03T09:05:14.566006Z",
     "start_time": "2024-04-03T09:05:14.457849Z"
    }
   },
   "id": "7a95e9edf808e728",
   "execution_count": 4
  },
  {
   "cell_type": "code",
   "outputs": [],
   "source": [
    "ngp.set_voltage(4, 3)\n",
    "ngp.set_current(4, 0.045)\n",
    "ngp.activate_channel(4)\n",
    "ngp.output_on()"
   ],
   "metadata": {
    "collapsed": false,
    "ExecuteTime": {
     "end_time": "2024-04-03T09:05:14.938872Z",
     "start_time": "2024-04-03T09:05:14.566853Z"
    }
   },
   "id": "24e17103700e76b0",
   "execution_count": 5
  },
  {
   "cell_type": "code",
   "outputs": [
    {
     "data": {
      "text/plain": "0.045"
     },
     "execution_count": 6,
     "metadata": {},
     "output_type": "execute_result"
    }
   ],
   "source": [
    "ngp.get_current(4)"
   ],
   "metadata": {
    "collapsed": false,
    "ExecuteTime": {
     "end_time": "2024-04-03T09:05:15.001467Z",
     "start_time": "2024-04-03T09:05:14.940871Z"
    }
   },
   "id": "41c5e0c57da52d1c",
   "execution_count": 6
  },
  {
   "cell_type": "code",
   "outputs": [
    {
     "data": {
      "text/plain": "0.045"
     },
     "execution_count": 7,
     "metadata": {},
     "output_type": "execute_result"
    }
   ],
   "source": [
    "ngp.driver.source.current.level.immediate.get_amplitude()"
   ],
   "metadata": {
    "collapsed": false,
    "ExecuteTime": {
     "end_time": "2024-04-03T09:05:15.017525Z",
     "start_time": "2024-04-03T09:05:15.003462Z"
    }
   },
   "id": "74031bb6f0fae0f8",
   "execution_count": 7
  },
  {
   "cell_type": "code",
   "outputs": [],
   "source": [
    "ngp.deactivate_all_channels()"
   ],
   "metadata": {
    "collapsed": false,
    "ExecuteTime": {
     "end_time": "2024-04-03T09:05:18.461964Z",
     "start_time": "2024-04-03T09:05:18.050088Z"
    }
   },
   "id": "94bd9898ecbb28f0",
   "execution_count": 8
  },
  {
   "cell_type": "code",
   "outputs": [
    {
     "name": "stdout",
     "output_type": "stream",
     "text": [
      "1\n",
      "2\n",
      "3\n"
     ]
    }
   ],
   "source": [
    "for i in range(1,4):\n",
    "    print(i)"
   ],
   "metadata": {
    "collapsed": false,
    "ExecuteTime": {
     "end_time": "2024-04-03T09:05:31.520562Z",
     "start_time": "2024-04-03T09:05:31.517055Z"
    }
   },
   "id": "4c25e62127cf8a6",
   "execution_count": 9
  },
  {
   "cell_type": "code",
   "outputs": [],
   "source": [
    "ngp.deactivate_channel(4)"
   ],
   "metadata": {
    "collapsed": false,
    "ExecuteTime": {
     "end_time": "2024-04-03T09:03:57.581749Z",
     "start_time": "2024-04-03T09:03:57.425436Z"
    }
   },
   "id": "4fac40774fc48e14",
   "execution_count": 18
  },
  {
   "cell_type": "code",
   "outputs": [],
   "source": [
    "ngp.close()"
   ],
   "metadata": {
    "collapsed": false,
    "ExecuteTime": {
     "end_time": "2024-04-03T09:03:22.937859Z",
     "start_time": "2024-04-03T09:03:21.430913Z"
    }
   },
   "id": "412837f8cf3de8e9",
   "execution_count": 8
  },
  {
   "cell_type": "code",
   "outputs": [],
   "source": [
    "ngp.output_off()"
   ],
   "metadata": {
    "collapsed": false,
    "ExecuteTime": {
     "end_time": "2024-04-02T15:56:49.510319Z",
     "start_time": "2024-04-02T15:56:49.457238Z"
    }
   },
   "id": "c3d44c43637a4f4d",
   "execution_count": 84
  },
  {
   "cell_type": "markdown",
   "source": [
    "---"
   ],
   "metadata": {
    "collapsed": false
   },
   "id": "27eaaaba0c5c830"
  },
  {
   "cell_type": "code",
   "outputs": [],
   "source": [],
   "metadata": {
    "collapsed": false,
    "ExecuteTime": {
     "end_time": "2024-04-02T12:32:42.301204Z",
     "start_time": "2024-04-02T12:32:42.283678Z"
    }
   },
   "id": "62d40030878bea53",
   "execution_count": 24
  },
  {
   "cell_type": "code",
   "outputs": [],
   "source": [
    "no_current = pd.read_csv(\"data/20240402-1428-15_test_output_0mA_hyperfine_ODMR_signal.dat\", sep=\"\\t\", comment=\"#\", names=[\"frequency\", \"voltage\"])\n",
    "\n",
    "with_current = pd.read_csv(\"data/20240402-1427-41_test_output_10mA_hyperfine_ODMR_signal.dat\", sep=\"\\t\", comment=\"#\", names=[\"frequency\", \"voltage\"])\n",
    "\n",
    "fig, ax = plt.subplots()\n",
    "\n",
    "ax.plot(no_current[\"frequency\"], no_current[\"voltage\"], label=\"No current\")\n",
    "ax.plot(with_current[\"frequency\"], with_current[\"voltage\"], label=\"With current\")\n",
    "fig.show()\n",
    "\n",
    "no_current = pd.read_csv(\"data/20240402-1403-44_test_output_off_ODMR_signal.dat\", sep=\"\\t\", comment=\"#\", names=[\"frequency\", \"voltage\"])\n",
    "\n",
    "with_current = pd.read_csv(\"data/20240402-1404-11_test_output_on_ODMR_signal.dat\", sep=\"\\t\", comment=\"#\", names=[\"frequency\", \"voltage\"])\n",
    "\n",
    "fig2, ax2 = plt.subplots()\n",
    "\n",
    "ax2.plot(no_current[\"frequency\"], no_current[\"voltage\"], label=\"No current\")\n",
    "ax2.plot(with_current[\"frequency\"], with_current[\"voltage\"], label=\"With current\")\n",
    "fig2.show()\n"
   ],
   "metadata": {
    "collapsed": false,
    "ExecuteTime": {
     "end_time": "2024-04-02T12:43:56.273337Z",
     "start_time": "2024-04-02T12:43:56.206201Z"
    }
   },
   "id": "d5009eaedb4c6a92",
   "execution_count": 30
  },
  {
   "cell_type": "code",
   "outputs": [],
   "source": [
    "no_current = pd.read_csv(\"data/20240402-1428-15_test_output_0mA_hyperfine_ODMR_signal.dat\", sep=\"\\t\", comment=\"#\", names=[\"frequency\", \"voltage\"])\n",
    "\n",
    "with_current = pd.read_csv(\"data/20240402-1427-41_test_output_10mA_hyperfine_ODMR_signal.dat\", sep=\"\\t\", comment=\"#\", names=[\"frequency\", \"voltage\"])"
   ],
   "metadata": {
    "collapsed": false,
    "ExecuteTime": {
     "end_time": "2024-04-02T12:44:07.607195Z",
     "start_time": "2024-04-02T12:44:07.595489Z"
    }
   },
   "id": "720e70e1fa1ae24c",
   "execution_count": 31
  },
  {
   "cell_type": "code",
   "outputs": [],
   "source": [
    "from tools import *"
   ],
   "metadata": {
    "collapsed": false,
    "ExecuteTime": {
     "end_time": "2024-04-02T12:44:09.105767Z",
     "start_time": "2024-04-02T12:44:09.091498Z"
    }
   },
   "id": "16c23f066dc47106",
   "execution_count": 32
  },
  {
   "cell_type": "code",
   "outputs": [],
   "source": [
    "peaks_indices, dips_indices, zero_crossings_indices, slopes, intercepts = evaluate_hyperfine(np.array(no_current[\"frequency\"]), np.array(no_current[\"voltage\"]),)"
   ],
   "metadata": {
    "collapsed": false,
    "ExecuteTime": {
     "end_time": "2024-04-02T12:47:25.919247Z",
     "start_time": "2024-04-02T12:47:25.903894Z"
    }
   },
   "id": "ec00d73173c236ee",
   "execution_count": 40
  },
  {
   "cell_type": "code",
   "outputs": [],
   "source": [
    "if not isinstance(no_current[\"frequency\"], np.ndarray):\n",
    "    frequency_array = np.array(no_current[\"frequency\"])"
   ],
   "metadata": {
    "collapsed": false,
    "ExecuteTime": {
     "end_time": "2024-04-02T12:46:45.441388Z",
     "start_time": "2024-04-02T12:46:45.425058Z"
    }
   },
   "id": "4998d1abee4805f4",
   "execution_count": 35
  },
  {
   "cell_type": "code",
   "outputs": [
    {
     "data": {
      "text/plain": "pandas.core.series.Series"
     },
     "execution_count": 39,
     "metadata": {},
     "output_type": "execute_result"
    }
   ],
   "source": [
    "type(no_current[\"frequency\"])"
   ],
   "metadata": {
    "collapsed": false,
    "ExecuteTime": {
     "end_time": "2024-04-02T12:47:01.936442Z",
     "start_time": "2024-04-02T12:47:01.918618Z"
    }
   },
   "id": "249feef5709613d9",
   "execution_count": 39
  },
  {
   "cell_type": "code",
   "outputs": [
    {
     "data": {
      "text/plain": "True"
     },
     "execution_count": 43,
     "metadata": {},
     "output_type": "execute_result"
    }
   ],
   "source": [
    "isinstance(no_current[\"frequency\"], pd.core.series.Series)"
   ],
   "metadata": {
    "collapsed": false,
    "ExecuteTime": {
     "end_time": "2024-04-02T12:48:00.066409Z",
     "start_time": "2024-04-02T12:48:00.054900Z"
    }
   },
   "id": "2a80c461fc63518e",
   "execution_count": 43
  },
  {
   "cell_type": "markdown",
   "source": [
    "---"
   ],
   "metadata": {
    "collapsed": false
   },
   "id": "32940ca6058a56d8"
  },
  {
   "cell_type": "code",
   "outputs": [],
   "source": [
    "from qudi_remote_control import OdmrRemoteControl"
   ],
   "metadata": {
    "collapsed": false,
    "ExecuteTime": {
     "end_time": "2024-04-03T08:43:39.383628Z",
     "start_time": "2024-04-03T08:43:39.309306Z"
    }
   },
   "id": "4ad819dba8d8d9db",
   "execution_count": 1
  },
  {
   "cell_type": "code",
   "outputs": [],
   "source": [
    "odmr = OdmrRemoteControl()"
   ],
   "metadata": {
    "collapsed": false,
    "ExecuteTime": {
     "end_time": "2024-04-03T08:43:39.399143Z",
     "start_time": "2024-04-03T08:43:39.384623Z"
    }
   },
   "id": "af361955a62cf1c",
   "execution_count": 2
  },
  {
   "cell_type": "code",
   "outputs": [],
   "source": [
    "odmr.take_odmr_scan(\"test/1\", 5, 2.64e9, 2.651e9, 200)"
   ],
   "metadata": {
    "collapsed": false,
    "ExecuteTime": {
     "end_time": "2024-04-03T08:43:41.052735Z",
     "start_time": "2024-04-03T08:43:39.541013Z"
    }
   },
   "id": "d3a30ca9435774f4",
   "execution_count": 3
  },
  {
   "cell_type": "code",
   "outputs": [],
   "source": [],
   "metadata": {
    "collapsed": false
   },
   "id": "de13d305cc161768"
  }
 ],
 "metadata": {
  "kernelspec": {
   "display_name": "Python 3",
   "language": "python",
   "name": "python3"
  },
  "language_info": {
   "codemirror_mode": {
    "name": "ipython",
    "version": 2
   },
   "file_extension": ".py",
   "mimetype": "text/x-python",
   "name": "python",
   "nbconvert_exporter": "python",
   "pygments_lexer": "ipython2",
   "version": "2.7.6"
  }
 },
 "nbformat": 4,
 "nbformat_minor": 5
}
