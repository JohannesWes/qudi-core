{
 "cells": [
  {
   "cell_type": "code",
   "execution_count": 1,
   "metadata": {
    "ExecuteTime": {
     "end_time": "2024-04-19T08:20:51.945565Z",
     "start_time": "2024-04-19T08:20:50.306314Z"
    }
   },
   "outputs": [],
   "source": [
    "import pickle\n",
    "from pathlib import Path\n",
    "import importlib.util\n",
    "import sys\n",
    "\n",
    "import matplotlib.pyplot as plt\n",
    "import numpy as np\n",
    "import pandas as pd\n",
    "import scipy.fft as fft\n",
    "from scipy.signal import find_peaks, welch, get_window, periodogram\n",
    "from scipy.optimize import curve_fit\n",
    "import matplotlib\n",
    "\n",
    "matplotlib.use(\"Qt5Agg\")\n",
    "\n",
    "path = Path(\"\").absolute()\n",
    "path_to_mod = str(path.parents[0] / \"johannes_tools\" / \"data_analysis\" / \"fitting.py\")\n",
    "spec = importlib.util.spec_from_file_location(\"fitting\", path_to_mod)\n",
    "johannes_tools = importlib.util.module_from_spec(spec)\n",
    "sys.modules[\"fitting\"] = johannes_tools\n",
    "spec.loader.exec_module(johannes_tools)\n",
    "from fitting import evaluate_hyperfine, fit_hyperfine # noqa\n"
   ]
  },
  {
   "cell_type": "markdown",
   "metadata": {},
   "source": [
    "\n",
    "# Load Data and fit ZSCs"
   ]
  },
  {
   "cell_type": "code",
   "execution_count": 2,
   "metadata": {
    "ExecuteTime": {
     "end_time": "2024-04-19T08:21:12.663573Z",
     "start_time": "2024-04-19T08:21:12.107898Z"
    }
   },
   "outputs": [
    {
     "name": "stdout",
     "output_type": "stream",
     "text": [
      "411    2.823228e+09\n",
      "518    2.825370e+09\n",
      "629    2.827593e+09\n",
      "Name: Frequency, dtype: float64\n"
     ]
    }
   ],
   "source": [
    "#--- Load the ODMR data, evaluate hyperfine spectrum, including zero crossing slopes ---#\n",
    "\n",
    "odmr_data = pd.read_csv(\"20240326-1823-44_85mW_hyperfine_ohne_sinc_ODMR_signal.dat\", comment='#', sep='\\t', header=None, names=['Frequency', 'Voltage'])\n",
    "\n",
    "fig, ax = plt.subplots()\n",
    "\n",
    "#--- Find peaks and dips in the ODMR signal; and fit slopes of zero-crossings ---#\n",
    "peaks_indices, dips_indices, zero_crossings_indices, slopes, intercepts = evaluate_hyperfine(np.array(odmr_data['Frequency']), np.array(odmr_data['Voltage']), \n",
    "                                                                                             feature_distance_in_Hz=0.5e6, min_feature_amplitude=0.02, zero_crossings_fit_range=0.1e6)\n",
    "\n",
    "\n",
    "print(odmr_data[\"Frequency\"].iloc[peaks_indices])\n",
    "\n",
    "ax.scatter(odmr_data[\"Frequency\"], odmr_data[\"Voltage\"], s=1)\n",
    "ax.scatter(odmr_data['Frequency'].iloc[peaks_indices], odmr_data['Voltage'].iloc[peaks_indices], color='red')\n",
    "ax.scatter(odmr_data['Frequency'].iloc[dips_indices], odmr_data['Voltage'].iloc[dips_indices], color='blue')\n",
    "for i, slope in enumerate(slopes):\n",
    "    ax.plot(odmr_data['Frequency'], slopes[i]*odmr_data['Frequency'] + intercepts[i], color='green')\n",
    "\n",
    "ax.set_xlabel(\"Frequency [Hz]\")\n",
    "ax.set_ylabel(\"Voltage [V]\")\n",
    "ax.set_title(\"Fitting ZCSs\")\n",
    "ax.grid()\n",
    "fig.tight_layout()\n",
    "fig.show()\n",
    "\n",
    "\n",
    "# factors for converting voltage values to magnetic field values\n",
    "gyromagnetic_ratio_Hz_per_nT = 28.024 # Hz/nT\n",
    "slope_in_V_per_nT = slopes[1] * gyromagnetic_ratio_Hz_per_nT\n",
    "volts_to_nT_multiplication_factor = 1/slopes[1] * 1/gyromagnetic_ratio_Hz_per_nT # 1/slope is Hz/V, 1/gyromagnetic ratio is nT/Hz\n",
    "\n",
    "\n",
    "#--- Load the saved data from the lock-in amplifier ---#\n",
    "with open('saved_result.pkl', 'rb') as f:\n",
    "    result = pickle.load(f)\n",
    "\n",
    "\n",
    "data_dict_x = result['/dev7279/demods/0/sample.x'][0]\n",
    "data_dict_y = result['/dev7279/demods/0/sample.y'][0]\n",
    "\n",
    "times = data_dict_x.time\n",
    "duration = result['/duration'][0] # [s]\n",
    "sample_rate = int(len(times)/duration) # [Hz]\n",
    "\n",
    "# apply conversion factor to the data\n",
    "samples_x_B_field = 100*data_dict_x.value[0] * volts_to_nT_multiplication_factor\n",
    "samples_x_B_field_original = samples_x_B_field.copy()\n",
    "\n",
    "# # remove the DC offset in each 1 second interval separately -> unsure if this is good practice\n",
    "# for i in range(int(result['/duration'][0])):\n",
    "#     samples_x_B_field[i*sample_rate:(i+1)*sample_rate] = samples_x_B_field[i*sample_rate:(i+1)*sample_rate] - np.mean(samples_x_B_field[i*sample_rate:(i+1)*sample_rate])\n",
    "    \n",
    "# samples_x_B_field = samples_x_B_field - np.mean(samples_x_B_field)\n",
    "# samples_y_B_field = data_dict_y.value[0] * volts_to_nT_multiplication_factor\n",
    "# samples_y_B_field = samples_y_B_field - np.mean(samples_y_B_field)\n"
   ]
  },
  {
   "cell_type": "code",
   "outputs": [
    {
     "data": {
      "text/plain": "array([0.00277746, 0.00277746, 0.00285347, ..., 0.00359003, 0.00352298,\n       0.00352049])"
     },
     "execution_count": 6,
     "metadata": {},
     "output_type": "execute_result"
    }
   ],
   "source": [
    "result[\"/dev7279/demods/0/sample.x\"][0].value[0]*100"
   ],
   "metadata": {
    "collapsed": false,
    "ExecuteTime": {
     "end_time": "2024-04-19T08:21:49.241002Z",
     "start_time": "2024-04-19T08:21:49.227302Z"
    }
   },
   "execution_count": 6
  },
  {
   "cell_type": "markdown",
   "metadata": {},
   "source": [
    "# Plot Time-Traces"
   ]
  },
  {
   "cell_type": "code",
   "outputs": [],
   "source": [
    "fig, axs = plt.subplots(2,1)\n",
    "\n",
    "axs[0].plot(times[0:int(sample_rate*64)], data_dict_x.value[0][0:int(sample_rate*64)]*1e3, linewidth=0.2)\n",
    "axs[0].grid()\n",
    "axs[0].set_title(\"64 s Time Trace of Magnetic Field Noise\")\n",
    "axs[0].set_xlabel(\"Time [s]\")\n",
    "axs[0].set_ylabel(\"Magnetic Field [mV]\")\n",
    "\n",
    "axs[1].plot(times[0:int(sample_rate)], data_dict_x.value[0][0:int(sample_rate)]*1e3, linewidth=0.75)\n",
    "axs[1].grid()\n",
    "axs[1].set_title(\"1 s Time Trace of Magnetic Field Noise\")\n",
    "axs[1].set_xlabel(\"Time [s]\")\n",
    "axs[1].set_ylabel(\"Magnetic Field [mV]\")\n",
    "fig.tight_layout()\n",
    "fig.show()"
   ],
   "metadata": {
    "collapsed": false,
    "ExecuteTime": {
     "end_time": "2024-04-19T08:21:50.377207Z",
     "start_time": "2024-04-19T08:21:50.256108Z"
    }
   },
   "execution_count": 7
  },
  {
   "cell_type": "code",
   "execution_count": 35,
   "metadata": {
    "ExecuteTime": {
     "end_time": "2024-04-05T15:58:17.749589Z",
     "start_time": "2024-04-05T15:58:17.626625Z"
    }
   },
   "outputs": [],
   "source": [
    "fig, axs = plt.subplots(2,1)\n",
    "\n",
    "axs[0].plot(times[0:int(sample_rate*64)], samples_x_B_field_original[0:int(sample_rate*64)], linewidth=0.2)\n",
    "axs[0].grid()\n",
    "axs[0].set_title(\"64 s Time Trace of Magnetic Field Noise\")\n",
    "axs[0].set_xlabel(\"Time [s]\")\n",
    "axs[0].set_ylabel(\"Magnetic Field [nT]\")\n",
    "\n",
    "axs[1].plot(times[0:int(sample_rate)], samples_x_B_field[0:int(sample_rate)], linewidth=0.75)\n",
    "axs[1].grid()\n",
    "axs[1].set_title(\"1 s Time Trace of Magnetic Field Noise\")\n",
    "axs[1].set_xlabel(\"Time [s]\")\n",
    "axs[1].set_ylabel(\"Magnetic Field [nT]\")\n",
    "fig.tight_layout()\n",
    "fig.show()"
   ]
  },
  {
   "cell_type": "code",
   "execution_count": 36,
   "metadata": {
    "ExecuteTime": {
     "end_time": "2024-04-05T15:58:41.864354Z",
     "start_time": "2024-04-05T15:58:41.845808Z"
    }
   },
   "outputs": [
    {
     "data": {
      "text/plain": "118.40796328744098"
     },
     "execution_count": 36,
     "metadata": {},
     "output_type": "execute_result"
    }
   ],
   "source": [
    "np.std(samples_x_B_field[0:int(sample_rate)])"
   ]
  },
  {
   "cell_type": "markdown",
   "metadata": {},
   "source": [
    "# ASD from FFTs"
   ]
  },
  {
   "cell_type": "code",
   "execution_count": 39,
   "metadata": {
    "ExecuteTime": {
     "end_time": "2024-04-05T15:59:14.961855Z",
     "start_time": "2024-04-05T15:59:10.468345Z"
    }
   },
   "outputs": [
    {
     "name": "stderr",
     "output_type": "stream",
     "text": [
      "C:\\Users\\aj92uwef\\AppData\\Local\\Temp\\ipykernel_6556\\1294005866.py:13: ComplexWarning: Casting complex values to real discards the imaginary part\n",
      "  rffts_x[i] = fft.rfft(samples_x_B_field[i*sample_rate:(i+1)*sample_rate])\n",
      "C:\\Users\\aj92uwef\\AppData\\Local\\Temp\\ipykernel_6556\\1294005866.py:15: ComplexWarning: Casting complex values to real discards the imaginary part\n",
      "  ffts_x[i] = fft.fft(samples_x_B_field[i*sample_rate:(i+1)*sample_rate])[:int(sample_rate)//2+1]\n"
     ]
    }
   ],
   "source": [
    "# empty arrays for storing FFT and PSD data\n",
    "# Real FFT: Computes FFT of real input signal, only half of the FFT is computed and the zero-frequency component\n",
    "rffts_x = np.zeros((int(duration), int(sample_rate)//2+1))\n",
    "ffts_x = np.zeros((int(duration), int(sample_rate)//2+1))\n",
    "psds = np.zeros((int(duration), int(sample_rate)//2+1))\n",
    "\n",
    "# normalization factor for the power spectral density, see \"Spectrum and spectral density estimation by the Discrete Fourier transform (DFT), including a comprehensive list of window functions and some new ﬂat-top windows.\"\"\n",
    "S_1 = len(ffts_x[0])\n",
    "\n",
    "# calculate ffts and psds for each 1 s segment of the time trace\n",
    "for i in range(int(duration)):\n",
    "    # rfft gives back N/2+1 complex numbers, where N is the number of samples\n",
    "    rffts_x[i] = fft.rfft(samples_x_B_field[i*sample_rate:(i+1)*sample_rate])\n",
    "    # fft gives back N complex numbers and we only need the first N/2+1 (positive frequencies only, including zero)\n",
    "    ffts_x[i] = fft.fft(samples_x_B_field[i*sample_rate:(i+1)*sample_rate])[:int(sample_rate)//2+1]\n",
    "    # Power spectral densities; # todo: Bin mir bei Faktor 2 nicht sicher, führt zu Unterschied von sqrt(2) in der Amplitude\n",
    "    psds[i] = np.abs(rffts_x[i])**2 / S_1**2\n",
    "\n",
    "psd_avg = np.mean(psds, axis=0)\n",
    "asd_avg = np.sqrt(psd_avg)\n",
    "\n",
    "fig, ax = plt.subplots()\n",
    "ax.plot(asd_avg)\n",
    "ax.set_xscale('log')\n",
    "ax.set_yscale('log')\n",
    "ax.set_ylim(np.array([1e-4, 0.15])*100)\n",
    "ax.grid()\n",
    "\n",
    "# plt.plot(times, samples_x, label='X')\n",
    "fig.show()\n",
    "\n",
    "\n",
    "plt.show()"
   ]
  },
  {
   "cell_type": "markdown",
   "metadata": {},
   "source": [
    "# ASD via PSD from scipy.welch"
   ]
  },
  {
   "cell_type": "code",
   "execution_count": 40,
   "metadata": {
    "ExecuteTime": {
     "end_time": "2024-04-05T15:59:28.873556Z",
     "start_time": "2024-04-05T15:59:28.761488Z"
    }
   },
   "outputs": [],
   "source": [
    "fig, ax = plt.subplots()\n",
    "\n",
    "welch_x_hanning = welch(samples_x_B_field, fs=sample_rate, nperseg=sample_rate, window='hann')\n",
    "ax.plot(welch_x_hanning[0], np.sqrt(welch_x_hanning[1]), label=\"Hann window\", alpha=0.7, linestyle=\"--\")\n",
    "\n",
    "welch_x_boxcar = welch(samples_x_B_field, fs=sample_rate, nperseg=sample_rate, noverlap=0, window=\"boxcar\")\n",
    "ax.plot(welch_x_boxcar[0], np.sqrt(welch_x_boxcar[1]),label=\"Boxcar window\", alpha=0.7, linestyle=\"-.\")\n",
    "\n",
    "ax.set_xscale('log')\n",
    "ax.set_yscale('log')\n",
    "ax.set_title(\"Amplitude spectral density of the x-component of the magnetic field\")\n",
    "ax.set_xlabel(\"Frequency [Hz]\")\n",
    "ax.set_ylabel(\"Sqrt of power spectral density [nT/sqrt(Hz)]\")\n",
    "ax.grid()\n",
    "ax.legend()\n",
    "ax.set_ylim(np.array([1e-4, 0.15])*100)\n",
    "fig.show()"
   ]
  },
  {
   "cell_type": "markdown",
   "metadata": {},
   "source": [
    "# Compare FFT and Welch methods"
   ]
  },
  {
   "cell_type": "code",
   "execution_count": 41,
   "metadata": {
    "ExecuteTime": {
     "end_time": "2024-04-05T15:59:41.389678Z",
     "start_time": "2024-04-05T15:59:41.333980Z"
    }
   },
   "outputs": [],
   "source": [
    "fig, ax = plt.subplots()\n",
    "axis_frequencies = welch_x_boxcar[0]\n",
    "#ax.plot(axis_frequencies, np.sqrt(welch_x_hanning[1]), label=\"ASD from Welch, Hanning window\", alpha=0.7, linestyle=\"-.\")\n",
    "ax.plot(axis_frequencies, np.sqrt(welch_x_boxcar[1]), label=\"ASD from Welch, Boxcar window\", alpha=0.7, linestyle=\"-.\")\n",
    "ax.plot(axis_frequencies, asd_avg, label=\"ASD from FFT\", alpha=0.7, linestyle=\"--\")\n",
    "ax.set_xscale('log')\n",
    "ax.set_yscale('log')\n",
    "ax.set_title(\"Amplitude spectral density of the x-component of the magnetic field\")\n",
    "ax.set_xlabel(\"Frequency [Hz]\")\n",
    "ax.set_ylabel(\"Sqrt of power spectral density [nT/sqrt(Hz)]\")\n",
    "ax.grid()\n",
    "ax.legend()\n",
    "ax.set_ylim(np.array([3e-4, 0.15])*100)\n",
    "fig.show()"
   ]
  },
  {
   "cell_type": "markdown",
   "metadata": {},
   "source": [
    "Die ASD von Welch und averaged periodogram method stimmen überein (macht auch Sinn, da sie ja eigentlich das exakt gleiche machen sollten, für noverlap=0).\n",
    "\n",
    "Damit die ASD direkt aus der FFT auch mit den beiden übereinstimmt, muss ich den Faktor 2 weglassen, der laut dem \"paper/manuskript\" eigentlich dazugehört ... Ich glaube, das hängt irgendwie mit der single-sided FFT oder so zusammen, bin mir aber nicht ganz sicher. Ohne den Faktor 2 ists richtig. Vielleicht korrigiert scipy für die rfft den faktor 2 von alleine?"
   ]
  },
  {
   "cell_type": "markdown",
   "metadata": {},
   "source": [
    "# Estimate the magnetic field sensitivity"
   ]
  },
  {
   "cell_type": "code",
   "execution_count": 42,
   "metadata": {
    "ExecuteTime": {
     "end_time": "2024-04-05T15:59:45.953675Z",
     "start_time": "2024-04-05T15:59:45.934795Z"
    }
   },
   "outputs": [],
   "source": [
    "f_ENBW = 500 # equivalent noise bandwidth [Hz]. Ich habe die Time Traces mit einem 500 Hz Filter 8. Ordnung gefiltert"
   ]
  },
  {
   "cell_type": "code",
   "execution_count": 43,
   "metadata": {
    "ExecuteTime": {
     "end_time": "2024-04-05T15:59:46.293660Z",
     "start_time": "2024-04-05T15:59:46.282425Z"
    }
   },
   "outputs": [
    {
     "data": {
      "text/plain": "3.6874843114656937"
     },
     "execution_count": 43,
     "metadata": {},
     "output_type": "execute_result"
    }
   ],
   "source": [
    "np.mean([np.std(samples_x_B_field[i*int(sample_rate):(i+1)*int(sample_rate)]) for i in range(int(duration))]) / np.sqrt(2*f_ENBW)"
   ]
  },
  {
   "cell_type": "code",
   "execution_count": 44,
   "metadata": {
    "ExecuteTime": {
     "end_time": "2024-04-05T15:59:47.279945Z",
     "start_time": "2024-04-05T15:59:47.266861Z"
    }
   },
   "outputs": [
    {
     "data": {
      "text/plain": "3.6881615304875472"
     },
     "execution_count": 44,
     "metadata": {},
     "output_type": "execute_result"
    }
   ],
   "source": [
    "# \n",
    "np.sqrt(np.sum(welch_x_boxcar[1]) * (welch_x_boxcar[0][1] - welch_x_boxcar[0][0]) / (2*500)) "
   ]
  },
  {
   "cell_type": "code",
   "outputs": [],
   "source": [],
   "metadata": {
    "collapsed": false
   }
  }
 ],
 "metadata": {
  "kernelspec": {
   "display_name": "base",
   "language": "python",
   "name": "python3"
  },
  "language_info": {
   "codemirror_mode": {
    "name": "ipython",
    "version": 3
   },
   "file_extension": ".py",
   "mimetype": "text/x-python",
   "name": "python",
   "nbconvert_exporter": "python",
   "pygments_lexer": "ipython3",
   "version": "3.9.13"
  }
 },
 "nbformat": 4,
 "nbformat_minor": 2
}
