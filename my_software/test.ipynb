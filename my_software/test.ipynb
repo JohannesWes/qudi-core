{
 "cells": [
  {
   "cell_type": "code",
   "outputs": [],
   "source": [
    "from NGP_control import *\n",
    "import pyvisa as visa\n",
    "from RsNgx import *\n",
    "import pandas as pd\n",
    "import numpy as np\n",
    "import matplotlib\n",
    "import matplotlib.pyplot as plt\n",
    "matplotlib.use(\"Qt5Agg\")"
   ],
   "metadata": {
    "collapsed": false,
    "ExecuteTime": {
     "end_time": "2024-04-02T15:45:18.857127Z",
     "start_time": "2024-04-02T15:45:18.837423Z"
    }
   },
   "id": "ec263f5032085bed",
   "execution_count": 44
  },
  {
   "cell_type": "code",
   "outputs": [
    {
     "ename": "VisaIOError",
     "evalue": "VI_ERROR_RSRC_BUSY (-1073807246): The resource is valid, but VISA cannot currently access it.",
     "output_type": "error",
     "traceback": [
      "\u001B[1;31m---------------------------------------------------------------------------\u001B[0m",
      "\u001B[1;31mVisaIOError\u001B[0m                               Traceback (most recent call last)",
      "Cell \u001B[1;32mIn[45], line 1\u001B[0m\n\u001B[1;32m----> 1\u001B[0m ngp \u001B[38;5;241m=\u001B[39m \u001B[43mNGP_instance\u001B[49m\u001B[43m(\u001B[49m\u001B[43m)\u001B[49m\n",
      "File \u001B[1;32m~\\PycharmProjects\\qudi-core\\my_software\\NGP_control.py:20\u001B[0m, in \u001B[0;36mNGP_instance.__init__\u001B[1;34m(self)\u001B[0m\n\u001B[0;32m     18\u001B[0m \u001B[38;5;28mself\u001B[39m\u001B[38;5;241m.\u001B[39mlarge_N \u001B[38;5;241m=\u001B[39m \u001B[38;5;241m600\u001B[39m\n\u001B[0;32m     19\u001B[0m \u001B[38;5;28mself\u001B[39m\u001B[38;5;241m.\u001B[39mlarge_R \u001B[38;5;241m=\u001B[39m \u001B[38;5;241m0.1045\u001B[39m\n\u001B[1;32m---> 20\u001B[0m \u001B[38;5;28mself\u001B[39m\u001B[38;5;241m.\u001B[39mdriver \u001B[38;5;241m=\u001B[39m \u001B[43mRsNgx\u001B[49m\u001B[43m(\u001B[49m\u001B[38;5;124;43m'\u001B[39;49m\u001B[38;5;124;43mASRL5::INSTR\u001B[39;49m\u001B[38;5;124;43m'\u001B[39;49m\u001B[43m,\u001B[49m\u001B[43m \u001B[49m\u001B[43mreset\u001B[49m\u001B[38;5;241;43m=\u001B[39;49m\u001B[38;5;28;43;01mTrue\u001B[39;49;00m\u001B[43m)\u001B[49m\n\u001B[0;32m     21\u001B[0m \u001B[38;5;28mself\u001B[39m\u001B[38;5;241m.\u001B[39mdriver\u001B[38;5;241m.\u001B[39mutilities\u001B[38;5;241m.\u001B[39mvisa_timeout \u001B[38;5;241m=\u001B[39m \u001B[38;5;241m3000\u001B[39m\n\u001B[0;32m     23\u001B[0m \u001B[38;5;28mprint\u001B[39m(\u001B[38;5;124mf\u001B[39m\u001B[38;5;124m'\u001B[39m\u001B[38;5;124mConnected to \u001B[39m\u001B[38;5;132;01m{\u001B[39;00m\u001B[38;5;28mself\u001B[39m\u001B[38;5;241m.\u001B[39mdriver\u001B[38;5;241m.\u001B[39mutilities\u001B[38;5;241m.\u001B[39mquery(\u001B[38;5;124m\"\u001B[39m\u001B[38;5;124m*IDN?\u001B[39m\u001B[38;5;124m\"\u001B[39m)\u001B[38;5;132;01m}\u001B[39;00m\u001B[38;5;124m'\u001B[39m)\n",
      "File \u001B[1;32m~\\PycharmProjects\\qudi-core\\venv\\lib\\site-packages\\RsNgx\\RsNgx.py:42\u001B[0m, in \u001B[0;36mRsNgx.__init__\u001B[1;34m(self, resource_name, id_query, reset, options, direct_session)\u001B[0m\n\u001B[0;32m     16\u001B[0m \u001B[38;5;28;01mdef\u001B[39;00m \u001B[38;5;21m__init__\u001B[39m(\u001B[38;5;28mself\u001B[39m, resource_name: \u001B[38;5;28mstr\u001B[39m, id_query: \u001B[38;5;28mbool\u001B[39m \u001B[38;5;241m=\u001B[39m \u001B[38;5;28;01mTrue\u001B[39;00m, reset: \u001B[38;5;28mbool\u001B[39m \u001B[38;5;241m=\u001B[39m \u001B[38;5;28;01mFalse\u001B[39;00m, options: \u001B[38;5;28mstr\u001B[39m \u001B[38;5;241m=\u001B[39m \u001B[38;5;28;01mNone\u001B[39;00m, direct_session: \u001B[38;5;28mobject\u001B[39m \u001B[38;5;241m=\u001B[39m \u001B[38;5;28;01mNone\u001B[39;00m):\n\u001B[0;32m     17\u001B[0m \u001B[38;5;250m\t\u001B[39m\u001B[38;5;124;03m\"\"\"Initializes new RsNgx session. \\n\u001B[39;00m\n\u001B[0;32m     18\u001B[0m \u001B[38;5;124;03m\tParameter options tokens examples:\u001B[39;00m\n\u001B[0;32m     19\u001B[0m \u001B[38;5;124;03m\t\t- ``Simulate=True`` - starts the session in simulation mode. Default: ``False``\u001B[39;00m\n\u001B[1;32m   (...)\u001B[0m\n\u001B[0;32m     40\u001B[0m \u001B[38;5;124;03m\t:param options: string tokens alternating the driver settings.\u001B[39;00m\n\u001B[0;32m     41\u001B[0m \u001B[38;5;124;03m\t:param direct_session: Another driver object or pyVisa object to reuse the session instead of opening a new session.\"\"\"\u001B[39;00m\n\u001B[1;32m---> 42\u001B[0m \t\u001B[38;5;28mself\u001B[39m\u001B[38;5;241m.\u001B[39m_core \u001B[38;5;241m=\u001B[39m \u001B[43mCore\u001B[49m\u001B[43m(\u001B[49m\u001B[43mresource_name\u001B[49m\u001B[43m,\u001B[49m\u001B[43m \u001B[49m\u001B[43mid_query\u001B[49m\u001B[43m,\u001B[49m\u001B[43m \u001B[49m\u001B[43mreset\u001B[49m\u001B[43m,\u001B[49m\u001B[43m \u001B[49m\u001B[43mRsNgx\u001B[49m\u001B[38;5;241;43m.\u001B[39;49m\u001B[43m_driver_options\u001B[49m\u001B[43m,\u001B[49m\u001B[43m \u001B[49m\u001B[43moptions\u001B[49m\u001B[43m,\u001B[49m\u001B[43m \u001B[49m\u001B[43mdirect_session\u001B[49m\u001B[43m)\u001B[49m\n\u001B[0;32m     43\u001B[0m \t\u001B[38;5;28mself\u001B[39m\u001B[38;5;241m.\u001B[39m_core\u001B[38;5;241m.\u001B[39mdriver_version \u001B[38;5;241m=\u001B[39m \u001B[38;5;124m'\u001B[39m\u001B[38;5;124m3.1.0.0049\u001B[39m\u001B[38;5;124m'\u001B[39m\n\u001B[0;32m     44\u001B[0m \t\u001B[38;5;28mself\u001B[39m\u001B[38;5;241m.\u001B[39m_options \u001B[38;5;241m=\u001B[39m options\n",
      "File \u001B[1;32m~\\PycharmProjects\\qudi-core\\venv\\lib\\site-packages\\RsNgx\\Internal\\Core.py:173\u001B[0m, in \u001B[0;36mCore.__init__\u001B[1;34m(self, resource_name, id_query, reset, driver_options, user_options, direct_session)\u001B[0m\n\u001B[0;32m    170\u001B[0m \u001B[38;5;28mself\u001B[39m\u001B[38;5;241m.\u001B[39m_instrumentSettings\u001B[38;5;241m.\u001B[39mapply_option_settings(\u001B[38;5;28mself\u001B[39m\u001B[38;5;241m.\u001B[39msett_user)\n\u001B[0;32m    172\u001B[0m handle \u001B[38;5;241m=\u001B[39m \u001B[38;5;28mself\u001B[39m\u001B[38;5;241m.\u001B[39m_resolve_direct_session(direct_session)\n\u001B[1;32m--> 173\u001B[0m \u001B[38;5;28mself\u001B[39m\u001B[38;5;241m.\u001B[39mio \u001B[38;5;241m=\u001B[39m \u001B[43mInstrument\u001B[49m\u001B[43m(\u001B[49m\u001B[38;5;28;43mself\u001B[39;49m\u001B[38;5;241;43m.\u001B[39;49m\u001B[43mresource_name\u001B[49m\u001B[43m,\u001B[49m\u001B[43m \u001B[49m\u001B[38;5;28;43mself\u001B[39;49m\u001B[38;5;241;43m.\u001B[39;49m\u001B[43msimulating\u001B[49m\u001B[43m,\u001B[49m\u001B[43m \u001B[49m\u001B[38;5;28;43mself\u001B[39;49m\u001B[38;5;241;43m.\u001B[39;49m\u001B[43m_instrumentSettings\u001B[49m\u001B[43m,\u001B[49m\u001B[43m \u001B[49m\u001B[43mhandle\u001B[49m\u001B[43m)\u001B[49m\n\u001B[0;32m    174\u001B[0m \u001B[38;5;28mself\u001B[39m\u001B[38;5;241m.\u001B[39mio\u001B[38;5;241m.\u001B[39mquery_instr_status \u001B[38;5;241m=\u001B[39m \u001B[38;5;28;01mTrue\u001B[39;00m\n\u001B[0;32m    175\u001B[0m \u001B[38;5;66;03m# Update the resource name if it changed, for example because of the direct session\u001B[39;00m\n",
      "File \u001B[1;32m~\\PycharmProjects\\qudi-core\\venv\\lib\\site-packages\\RsNgx\\Internal\\Instrument.py:82\u001B[0m, in \u001B[0;36mInstrument.__init__\u001B[1;34m(self, resource_name, simulate, settings, direct_session)\u001B[0m\n\u001B[0;32m     79\u001B[0m \t\u001B[38;5;28mself\u001B[39m\u001B[38;5;241m.\u001B[39m_log_end_segment()\n\u001B[0;32m     80\u001B[0m \t\u001B[38;5;28;01mreturn\u001B[39;00m\n\u001B[1;32m---> 82\u001B[0m \u001B[38;5;28mself\u001B[39m\u001B[38;5;241m.\u001B[39m_set_session(\u001B[43mVisaSession\u001B[49m\u001B[43m(\u001B[49m\u001B[43mresource_name\u001B[49m\u001B[43m,\u001B[49m\u001B[43m \u001B[49m\u001B[38;5;28;43mself\u001B[39;49m\u001B[38;5;241;43m.\u001B[39;49m\u001B[43m_settings\u001B[49m\u001B[43m,\u001B[49m\u001B[43m \u001B[49m\u001B[43mdirect_session\u001B[49m\u001B[43m)\u001B[49m)\n\u001B[0;32m     83\u001B[0m \u001B[38;5;28mself\u001B[39m\u001B[38;5;241m.\u001B[39m_lock \u001B[38;5;241m=\u001B[39m \u001B[38;5;28mself\u001B[39m\u001B[38;5;241m.\u001B[39m_session\u001B[38;5;241m.\u001B[39mget_lock()\n\u001B[0;32m     84\u001B[0m logging_name \u001B[38;5;241m=\u001B[39m \u001B[38;5;28mself\u001B[39m\u001B[38;5;241m.\u001B[39m_session\u001B[38;5;241m.\u001B[39mresource_name \u001B[38;5;28;01mif\u001B[39;00m \u001B[38;5;28mself\u001B[39m\u001B[38;5;241m.\u001B[39m_settings\u001B[38;5;241m.\u001B[39mlogging_name \u001B[38;5;129;01mis\u001B[39;00m \u001B[38;5;28;01mNone\u001B[39;00m \u001B[38;5;28;01melse\u001B[39;00m \u001B[38;5;28mself\u001B[39m\u001B[38;5;241m.\u001B[39m_settings\u001B[38;5;241m.\u001B[39mlogging_name\n",
      "File \u001B[1;32m~\\PycharmProjects\\qudi-core\\venv\\lib\\site-packages\\RsNgx\\Internal\\VisaSession.py:113\u001B[0m, in \u001B[0;36mVisaSession.__init__\u001B[1;34m(self, resource_name, settings, direct_session)\u001B[0m\n\u001B[0;32m    111\u001B[0m \u001B[38;5;28;01mexcept\u001B[39;00m pyvisa\u001B[38;5;241m.\u001B[39mVisaIOError \u001B[38;5;28;01mas\u001B[39;00m e:\n\u001B[0;32m    112\u001B[0m \t\u001B[38;5;28;01mif\u001B[39;00m e\u001B[38;5;241m.\u001B[39merror_code \u001B[38;5;241m!=\u001B[39m pyvisa\u001B[38;5;241m.\u001B[39mconstants\u001B[38;5;241m.\u001B[39mStatusCode\u001B[38;5;241m.\u001B[39merror_resource_not_found:\n\u001B[1;32m--> 113\u001B[0m \t\t\u001B[38;5;28;01mraise\u001B[39;00m e\n\u001B[0;32m    114\u001B[0m \tmessage \u001B[38;5;241m=\u001B[39m e\u001B[38;5;241m.\u001B[39mdescription\n\u001B[0;32m    115\u001B[0m \tmessage \u001B[38;5;241m+\u001B[39m\u001B[38;5;241m=\u001B[39m \u001B[38;5;124mf\u001B[39m\u001B[38;5;124m\"\u001B[39m\u001B[38;5;130;01m\\n\u001B[39;00m\u001B[38;5;124mLibrary: \u001B[39m\u001B[38;5;132;01m{\u001B[39;00m\u001B[38;5;28mself\u001B[39m\u001B[38;5;241m.\u001B[39m_rm\u001B[38;5;241m.\u001B[39mvisalib\u001B[38;5;132;01m}\u001B[39;00m\u001B[38;5;130;01m\\n\u001B[39;00m\u001B[38;5;124mManufacturer: \u001B[39m\u001B[38;5;132;01m{\u001B[39;00m\u001B[38;5;28mself\u001B[39m\u001B[38;5;241m.\u001B[39mmanufacturer\u001B[38;5;132;01m}\u001B[39;00m\u001B[38;5;130;01m\\n\u001B[39;00m\u001B[38;5;124mResource Name: \u001B[39m\u001B[38;5;124m'\u001B[39m\u001B[38;5;132;01m{\u001B[39;00mresource_name\u001B[38;5;132;01m}\u001B[39;00m\u001B[38;5;124m'\u001B[39m\u001B[38;5;124m\"\u001B[39m\n",
      "File \u001B[1;32m~\\PycharmProjects\\qudi-core\\venv\\lib\\site-packages\\RsNgx\\Internal\\VisaSession.py:110\u001B[0m, in \u001B[0;36mVisaSession.__init__\u001B[1;34m(self, resource_name, settings, direct_session)\u001B[0m\n\u001B[0;32m    108\u001B[0m \u001B[38;5;66;03m# Resource manager opening\u001B[39;00m\n\u001B[0;32m    109\u001B[0m \u001B[38;5;28;01mtry\u001B[39;00m:\n\u001B[1;32m--> 110\u001B[0m \t\u001B[38;5;28mself\u001B[39m\u001B[38;5;241m.\u001B[39m_session \u001B[38;5;241m=\u001B[39m \u001B[38;5;28;43mself\u001B[39;49m\u001B[38;5;241;43m.\u001B[39;49m\u001B[43m_rm\u001B[49m\u001B[38;5;241;43m.\u001B[39;49m\u001B[43mopen_resource\u001B[49m\u001B[43m(\u001B[49m\u001B[43mpure_resource_name\u001B[49m\u001B[43m)\u001B[49m\n\u001B[0;32m    111\u001B[0m \u001B[38;5;28;01mexcept\u001B[39;00m pyvisa\u001B[38;5;241m.\u001B[39mVisaIOError \u001B[38;5;28;01mas\u001B[39;00m e:\n\u001B[0;32m    112\u001B[0m \t\u001B[38;5;28;01mif\u001B[39;00m e\u001B[38;5;241m.\u001B[39merror_code \u001B[38;5;241m!=\u001B[39m pyvisa\u001B[38;5;241m.\u001B[39mconstants\u001B[38;5;241m.\u001B[39mStatusCode\u001B[38;5;241m.\u001B[39merror_resource_not_found:\n",
      "File \u001B[1;32m~\\PycharmProjects\\qudi-core\\venv\\lib\\site-packages\\pyvisa\\highlevel.py:3292\u001B[0m, in \u001B[0;36mResourceManager.open_resource\u001B[1;34m(self, resource_name, access_mode, open_timeout, resource_pyclass, **kwargs)\u001B[0m\n\u001B[0;32m   3286\u001B[0m     \u001B[38;5;28;01mif\u001B[39;00m \u001B[38;5;129;01mnot\u001B[39;00m present:\n\u001B[0;32m   3287\u001B[0m         \u001B[38;5;28;01mraise\u001B[39;00m \u001B[38;5;167;01mValueError\u001B[39;00m(\n\u001B[0;32m   3288\u001B[0m             \u001B[38;5;124m\"\u001B[39m\u001B[38;5;132;01m%r\u001B[39;00m\u001B[38;5;124m is not a valid attribute for type \u001B[39m\u001B[38;5;132;01m%s\u001B[39;00m\u001B[38;5;124m\"\u001B[39m\n\u001B[0;32m   3289\u001B[0m             \u001B[38;5;241m%\u001B[39m (key, res\u001B[38;5;241m.\u001B[39m\u001B[38;5;18m__class__\u001B[39m\u001B[38;5;241m.\u001B[39m\u001B[38;5;18m__name__\u001B[39m)\n\u001B[0;32m   3290\u001B[0m         )\n\u001B[1;32m-> 3292\u001B[0m \u001B[43mres\u001B[49m\u001B[38;5;241;43m.\u001B[39;49m\u001B[43mopen\u001B[49m\u001B[43m(\u001B[49m\u001B[43maccess_mode\u001B[49m\u001B[43m,\u001B[49m\u001B[43m \u001B[49m\u001B[43mopen_timeout\u001B[49m\u001B[43m)\u001B[49m\n\u001B[0;32m   3294\u001B[0m \u001B[38;5;28;01mfor\u001B[39;00m key, value \u001B[38;5;129;01min\u001B[39;00m kwargs\u001B[38;5;241m.\u001B[39mitems():\n\u001B[0;32m   3295\u001B[0m     \u001B[38;5;28msetattr\u001B[39m(res, key, value)\n",
      "File \u001B[1;32m~\\PycharmProjects\\qudi-core\\venv\\lib\\site-packages\\pyvisa\\resources\\resource.py:281\u001B[0m, in \u001B[0;36mResource.open\u001B[1;34m(self, access_mode, open_timeout)\u001B[0m\n\u001B[0;32m    277\u001B[0m logger\u001B[38;5;241m.\u001B[39mdebug(\u001B[38;5;124m\"\u001B[39m\u001B[38;5;132;01m%s\u001B[39;00m\u001B[38;5;124m - opening ...\u001B[39m\u001B[38;5;124m\"\u001B[39m, \u001B[38;5;28mself\u001B[39m\u001B[38;5;241m.\u001B[39m_resource_name, extra\u001B[38;5;241m=\u001B[39m\u001B[38;5;28mself\u001B[39m\u001B[38;5;241m.\u001B[39m_logging_extra)\n\u001B[0;32m    278\u001B[0m \u001B[38;5;28;01mwith\u001B[39;00m \u001B[38;5;28mself\u001B[39m\u001B[38;5;241m.\u001B[39m_resource_manager\u001B[38;5;241m.\u001B[39mignore_warning(\n\u001B[0;32m    279\u001B[0m     constants\u001B[38;5;241m.\u001B[39mStatusCode\u001B[38;5;241m.\u001B[39msuccess_device_not_present\n\u001B[0;32m    280\u001B[0m ):\n\u001B[1;32m--> 281\u001B[0m     \u001B[38;5;28mself\u001B[39m\u001B[38;5;241m.\u001B[39msession, status \u001B[38;5;241m=\u001B[39m \u001B[38;5;28;43mself\u001B[39;49m\u001B[38;5;241;43m.\u001B[39;49m\u001B[43m_resource_manager\u001B[49m\u001B[38;5;241;43m.\u001B[39;49m\u001B[43mopen_bare_resource\u001B[49m\u001B[43m(\u001B[49m\n\u001B[0;32m    282\u001B[0m \u001B[43m        \u001B[49m\u001B[38;5;28;43mself\u001B[39;49m\u001B[38;5;241;43m.\u001B[39;49m\u001B[43m_resource_name\u001B[49m\u001B[43m,\u001B[49m\u001B[43m \u001B[49m\u001B[43maccess_mode\u001B[49m\u001B[43m,\u001B[49m\u001B[43m \u001B[49m\u001B[43mopen_timeout\u001B[49m\n\u001B[0;32m    283\u001B[0m \u001B[43m    \u001B[49m\u001B[43m)\u001B[49m\n\u001B[0;32m    285\u001B[0m     \u001B[38;5;28;01mif\u001B[39;00m status \u001B[38;5;241m==\u001B[39m constants\u001B[38;5;241m.\u001B[39mStatusCode\u001B[38;5;241m.\u001B[39msuccess_device_not_present:\n\u001B[0;32m    286\u001B[0m         \u001B[38;5;66;03m# The device was not ready when we opened the session.\u001B[39;00m\n\u001B[0;32m    287\u001B[0m         \u001B[38;5;66;03m# Now it gets five seconds more to become ready.\u001B[39;00m\n\u001B[0;32m    288\u001B[0m         \u001B[38;5;66;03m# Every 0.1 seconds we probe it with viClear.\u001B[39;00m\n\u001B[0;32m    289\u001B[0m         start_time \u001B[38;5;241m=\u001B[39m time\u001B[38;5;241m.\u001B[39mtime()\n",
      "File \u001B[1;32m~\\PycharmProjects\\qudi-core\\venv\\lib\\site-packages\\pyvisa\\highlevel.py:3217\u001B[0m, in \u001B[0;36mResourceManager.open_bare_resource\u001B[1;34m(self, resource_name, access_mode, open_timeout)\u001B[0m\n\u001B[0;32m   3188\u001B[0m \u001B[38;5;28;01mdef\u001B[39;00m \u001B[38;5;21mopen_bare_resource\u001B[39m(\n\u001B[0;32m   3189\u001B[0m     \u001B[38;5;28mself\u001B[39m,\n\u001B[0;32m   3190\u001B[0m     resource_name: \u001B[38;5;28mstr\u001B[39m,\n\u001B[0;32m   3191\u001B[0m     access_mode: constants\u001B[38;5;241m.\u001B[39mAccessModes \u001B[38;5;241m=\u001B[39m constants\u001B[38;5;241m.\u001B[39mAccessModes\u001B[38;5;241m.\u001B[39mno_lock,\n\u001B[0;32m   3192\u001B[0m     open_timeout: \u001B[38;5;28mint\u001B[39m \u001B[38;5;241m=\u001B[39m constants\u001B[38;5;241m.\u001B[39mVI_TMO_IMMEDIATE,\n\u001B[0;32m   3193\u001B[0m ) \u001B[38;5;241m-\u001B[39m\u001B[38;5;241m>\u001B[39m Tuple[VISASession, StatusCode]:\n\u001B[0;32m   3194\u001B[0m \u001B[38;5;250m    \u001B[39m\u001B[38;5;124;03m\"\"\"Open the specified resource without wrapping into a class.\u001B[39;00m\n\u001B[0;32m   3195\u001B[0m \n\u001B[0;32m   3196\u001B[0m \u001B[38;5;124;03m    Parameters\u001B[39;00m\n\u001B[1;32m   (...)\u001B[0m\n\u001B[0;32m   3215\u001B[0m \n\u001B[0;32m   3216\u001B[0m \u001B[38;5;124;03m    \"\"\"\u001B[39;00m\n\u001B[1;32m-> 3217\u001B[0m     \u001B[38;5;28;01mreturn\u001B[39;00m \u001B[38;5;28;43mself\u001B[39;49m\u001B[38;5;241;43m.\u001B[39;49m\u001B[43mvisalib\u001B[49m\u001B[38;5;241;43m.\u001B[39;49m\u001B[43mopen\u001B[49m\u001B[43m(\u001B[49m\u001B[38;5;28;43mself\u001B[39;49m\u001B[38;5;241;43m.\u001B[39;49m\u001B[43msession\u001B[49m\u001B[43m,\u001B[49m\u001B[43m \u001B[49m\u001B[43mresource_name\u001B[49m\u001B[43m,\u001B[49m\u001B[43m \u001B[49m\u001B[43maccess_mode\u001B[49m\u001B[43m,\u001B[49m\u001B[43m \u001B[49m\u001B[43mopen_timeout\u001B[49m\u001B[43m)\u001B[49m\n",
      "File \u001B[1;32m~\\PycharmProjects\\qudi-core\\venv\\lib\\site-packages\\pyvisa\\ctwrapper\\functions.py:1850\u001B[0m, in \u001B[0;36mopen\u001B[1;34m(library, session, resource_name, access_mode, open_timeout)\u001B[0m\n\u001B[0;32m   1846\u001B[0m out_session \u001B[38;5;241m=\u001B[39m ViSession()\n\u001B[0;32m   1848\u001B[0m \u001B[38;5;66;03m# [ViSession, ViRsrc, ViAccessMode, ViUInt32, ViPSession]\u001B[39;00m\n\u001B[0;32m   1849\u001B[0m \u001B[38;5;66;03m# ViRsrc converts from (str, unicode, bytes) to bytes\u001B[39;00m\n\u001B[1;32m-> 1850\u001B[0m ret \u001B[38;5;241m=\u001B[39m \u001B[43mlibrary\u001B[49m\u001B[38;5;241;43m.\u001B[39;49m\u001B[43mviOpen\u001B[49m\u001B[43m(\u001B[49m\n\u001B[0;32m   1851\u001B[0m \u001B[43m    \u001B[49m\u001B[43msession\u001B[49m\u001B[43m,\u001B[49m\u001B[43m \u001B[49m\u001B[43mresource_name\u001B[49m\u001B[43m,\u001B[49m\u001B[43m \u001B[49m\u001B[43maccess_mode\u001B[49m\u001B[43m,\u001B[49m\u001B[43m \u001B[49m\u001B[43mopen_timeout\u001B[49m\u001B[43m,\u001B[49m\u001B[43m \u001B[49m\u001B[43mbyref\u001B[49m\u001B[43m(\u001B[49m\u001B[43mout_session\u001B[49m\u001B[43m)\u001B[49m\n\u001B[0;32m   1852\u001B[0m \u001B[43m\u001B[49m\u001B[43m)\u001B[49m\n\u001B[0;32m   1853\u001B[0m \u001B[38;5;28;01mreturn\u001B[39;00m out_session\u001B[38;5;241m.\u001B[39mvalue, ret\n",
      "File \u001B[1;32m~\\PycharmProjects\\qudi-core\\venv\\lib\\site-packages\\pyvisa\\ctwrapper\\highlevel.py:226\u001B[0m, in \u001B[0;36mIVIVisaLibrary._return_handler\u001B[1;34m(self, ret_value, func, arguments)\u001B[0m\n\u001B[0;32m    223\u001B[0m         \u001B[38;5;66;03m# Set session back to a safe value\u001B[39;00m\n\u001B[0;32m    224\u001B[0m         session \u001B[38;5;241m=\u001B[39m \u001B[38;5;28;01mNone\u001B[39;00m\n\u001B[1;32m--> 226\u001B[0m \u001B[38;5;28;01mreturn\u001B[39;00m \u001B[38;5;28;43mself\u001B[39;49m\u001B[38;5;241;43m.\u001B[39;49m\u001B[43mhandle_return_value\u001B[49m\u001B[43m(\u001B[49m\u001B[43msession\u001B[49m\u001B[43m,\u001B[49m\u001B[43m \u001B[49m\u001B[43mret_value\u001B[49m\u001B[43m)\u001B[49m\n",
      "File \u001B[1;32m~\\PycharmProjects\\qudi-core\\venv\\lib\\site-packages\\pyvisa\\highlevel.py:251\u001B[0m, in \u001B[0;36mVisaLibraryBase.handle_return_value\u001B[1;34m(self, session, status_code)\u001B[0m\n\u001B[0;32m    248\u001B[0m     \u001B[38;5;28mself\u001B[39m\u001B[38;5;241m.\u001B[39m_last_status_in_session[session] \u001B[38;5;241m=\u001B[39m rv\n\u001B[0;32m    250\u001B[0m \u001B[38;5;28;01mif\u001B[39;00m rv \u001B[38;5;241m<\u001B[39m \u001B[38;5;241m0\u001B[39m:\n\u001B[1;32m--> 251\u001B[0m     \u001B[38;5;28;01mraise\u001B[39;00m errors\u001B[38;5;241m.\u001B[39mVisaIOError(rv)\n\u001B[0;32m    253\u001B[0m \u001B[38;5;28;01mif\u001B[39;00m rv \u001B[38;5;129;01min\u001B[39;00m \u001B[38;5;28mself\u001B[39m\u001B[38;5;241m.\u001B[39missue_warning_on:\n\u001B[0;32m    254\u001B[0m     \u001B[38;5;28;01mif\u001B[39;00m session \u001B[38;5;129;01mand\u001B[39;00m rv \u001B[38;5;129;01mnot\u001B[39;00m \u001B[38;5;129;01min\u001B[39;00m \u001B[38;5;28mself\u001B[39m\u001B[38;5;241m.\u001B[39m_ignore_warning_in_session[session]:\n",
      "\u001B[1;31mVisaIOError\u001B[0m: VI_ERROR_RSRC_BUSY (-1073807246): The resource is valid, but VISA cannot currently access it."
     ]
    }
   ],
   "source": [
    "ngp = NGP_instance()"
   ],
   "metadata": {
    "collapsed": false,
    "ExecuteTime": {
     "end_time": "2024-04-02T15:45:19.260476Z",
     "start_time": "2024-04-02T15:45:19.103659Z"
    }
   },
   "id": "f4835461eea6d529",
   "execution_count": 45
  },
  {
   "cell_type": "code",
   "outputs": [
    {
     "data": {
      "text/plain": "'CONSTANT VOLTAGE'"
     },
     "execution_count": 46,
     "metadata": {},
     "output_type": "execute_result"
    }
   ],
   "source": [
    "ngp.read_mode(4)"
   ],
   "metadata": {
    "collapsed": false,
    "ExecuteTime": {
     "end_time": "2024-04-02T15:45:23.007362Z",
     "start_time": "2024-04-02T15:45:22.995633Z"
    }
   },
   "id": "bc6b951d420d3512",
   "execution_count": 46
  },
  {
   "cell_type": "code",
   "outputs": [],
   "source": [],
   "metadata": {
    "collapsed": false,
    "ExecuteTime": {
     "end_time": "2024-04-02T15:57:06.574137Z",
     "start_time": "2024-04-02T15:57:06.477989Z"
    }
   },
   "id": "7a95e9edf808e728",
   "execution_count": 85
  },
  {
   "cell_type": "code",
   "outputs": [],
   "source": [
    "ngp.set_voltage(4, 3)\n",
    "ngp.set_current(4, 0.045)\n",
    "ngp.activate_channel(4)\n",
    "ngp.output_on()"
   ],
   "metadata": {
    "collapsed": false,
    "ExecuteTime": {
     "end_time": "2024-04-02T15:57:37.198681Z",
     "start_time": "2024-04-02T15:57:36.854306Z"
    }
   },
   "id": "24e17103700e76b0",
   "execution_count": 89
  },
  {
   "cell_type": "code",
   "outputs": [],
   "source": [
    "ngp.output_off()"
   ],
   "metadata": {
    "collapsed": false,
    "ExecuteTime": {
     "end_time": "2024-04-02T15:56:49.510319Z",
     "start_time": "2024-04-02T15:56:49.457238Z"
    }
   },
   "id": "c3d44c43637a4f4d",
   "execution_count": 84
  },
  {
   "cell_type": "markdown",
   "source": [
    "---"
   ],
   "metadata": {
    "collapsed": false
   },
   "id": "27eaaaba0c5c830"
  },
  {
   "cell_type": "code",
   "outputs": [],
   "source": [],
   "metadata": {
    "collapsed": false,
    "ExecuteTime": {
     "end_time": "2024-04-02T12:32:42.301204Z",
     "start_time": "2024-04-02T12:32:42.283678Z"
    }
   },
   "id": "62d40030878bea53",
   "execution_count": 24
  },
  {
   "cell_type": "code",
   "outputs": [],
   "source": [
    "no_current = pd.read_csv(\"data/20240402-1428-15_test_output_0mA_hyperfine_ODMR_signal.dat\", sep=\"\\t\", comment=\"#\", names=[\"frequency\", \"voltage\"])\n",
    "\n",
    "with_current = pd.read_csv(\"data/20240402-1427-41_test_output_10mA_hyperfine_ODMR_signal.dat\", sep=\"\\t\", comment=\"#\", names=[\"frequency\", \"voltage\"])\n",
    "\n",
    "fig, ax = plt.subplots()\n",
    "\n",
    "ax.plot(no_current[\"frequency\"], no_current[\"voltage\"], label=\"No current\")\n",
    "ax.plot(with_current[\"frequency\"], with_current[\"voltage\"], label=\"With current\")\n",
    "fig.show()\n",
    "\n",
    "no_current = pd.read_csv(\"data/20240402-1403-44_test_output_off_ODMR_signal.dat\", sep=\"\\t\", comment=\"#\", names=[\"frequency\", \"voltage\"])\n",
    "\n",
    "with_current = pd.read_csv(\"data/20240402-1404-11_test_output_on_ODMR_signal.dat\", sep=\"\\t\", comment=\"#\", names=[\"frequency\", \"voltage\"])\n",
    "\n",
    "fig2, ax2 = plt.subplots()\n",
    "\n",
    "ax2.plot(no_current[\"frequency\"], no_current[\"voltage\"], label=\"No current\")\n",
    "ax2.plot(with_current[\"frequency\"], with_current[\"voltage\"], label=\"With current\")\n",
    "fig2.show()\n"
   ],
   "metadata": {
    "collapsed": false,
    "ExecuteTime": {
     "end_time": "2024-04-02T12:43:56.273337Z",
     "start_time": "2024-04-02T12:43:56.206201Z"
    }
   },
   "id": "d5009eaedb4c6a92",
   "execution_count": 30
  },
  {
   "cell_type": "code",
   "outputs": [],
   "source": [
    "no_current = pd.read_csv(\"data/20240402-1428-15_test_output_0mA_hyperfine_ODMR_signal.dat\", sep=\"\\t\", comment=\"#\", names=[\"frequency\", \"voltage\"])\n",
    "\n",
    "with_current = pd.read_csv(\"data/20240402-1427-41_test_output_10mA_hyperfine_ODMR_signal.dat\", sep=\"\\t\", comment=\"#\", names=[\"frequency\", \"voltage\"])"
   ],
   "metadata": {
    "collapsed": false,
    "ExecuteTime": {
     "end_time": "2024-04-02T12:44:07.607195Z",
     "start_time": "2024-04-02T12:44:07.595489Z"
    }
   },
   "id": "720e70e1fa1ae24c",
   "execution_count": 31
  },
  {
   "cell_type": "code",
   "outputs": [],
   "source": [
    "from tools import *"
   ],
   "metadata": {
    "collapsed": false,
    "ExecuteTime": {
     "end_time": "2024-04-02T12:44:09.105767Z",
     "start_time": "2024-04-02T12:44:09.091498Z"
    }
   },
   "id": "16c23f066dc47106",
   "execution_count": 32
  },
  {
   "cell_type": "code",
   "outputs": [],
   "source": [
    "peaks_indices, dips_indices, zero_crossings_indices, slopes, intercepts = evaluate_hyperfine(np.array(no_current[\"frequency\"]), np.array(no_current[\"voltage\"]),)"
   ],
   "metadata": {
    "collapsed": false,
    "ExecuteTime": {
     "end_time": "2024-04-02T12:47:25.919247Z",
     "start_time": "2024-04-02T12:47:25.903894Z"
    }
   },
   "id": "ec00d73173c236ee",
   "execution_count": 40
  },
  {
   "cell_type": "code",
   "outputs": [],
   "source": [
    "if not isinstance(no_current[\"frequency\"], np.ndarray):\n",
    "    frequency_array = np.array(no_current[\"frequency\"])"
   ],
   "metadata": {
    "collapsed": false,
    "ExecuteTime": {
     "end_time": "2024-04-02T12:46:45.441388Z",
     "start_time": "2024-04-02T12:46:45.425058Z"
    }
   },
   "id": "4998d1abee4805f4",
   "execution_count": 35
  },
  {
   "cell_type": "code",
   "outputs": [
    {
     "data": {
      "text/plain": "pandas.core.series.Series"
     },
     "execution_count": 39,
     "metadata": {},
     "output_type": "execute_result"
    }
   ],
   "source": [
    "type(no_current[\"frequency\"])"
   ],
   "metadata": {
    "collapsed": false,
    "ExecuteTime": {
     "end_time": "2024-04-02T12:47:01.936442Z",
     "start_time": "2024-04-02T12:47:01.918618Z"
    }
   },
   "id": "249feef5709613d9",
   "execution_count": 39
  },
  {
   "cell_type": "code",
   "outputs": [
    {
     "data": {
      "text/plain": "True"
     },
     "execution_count": 43,
     "metadata": {},
     "output_type": "execute_result"
    }
   ],
   "source": [
    "isinstance(no_current[\"frequency\"], pd.core.series.Series)"
   ],
   "metadata": {
    "collapsed": false,
    "ExecuteTime": {
     "end_time": "2024-04-02T12:48:00.066409Z",
     "start_time": "2024-04-02T12:48:00.054900Z"
    }
   },
   "id": "2a80c461fc63518e",
   "execution_count": 43
  },
  {
   "cell_type": "code",
   "outputs": [],
   "source": [],
   "metadata": {
    "collapsed": false
   },
   "id": "c7b864719dc7d981"
  }
 ],
 "metadata": {
  "kernelspec": {
   "display_name": "Python 3",
   "language": "python",
   "name": "python3"
  },
  "language_info": {
   "codemirror_mode": {
    "name": "ipython",
    "version": 2
   },
   "file_extension": ".py",
   "mimetype": "text/x-python",
   "name": "python",
   "nbconvert_exporter": "python",
   "pygments_lexer": "ipython2",
   "version": "2.7.6"
  }
 },
 "nbformat": 4,
 "nbformat_minor": 5
}
